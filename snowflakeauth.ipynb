{
 "cells": [
  {
   "cell_type": "code",
   "execution_count": 3,
   "metadata": {},
   "outputs": [],
   "source": [
    "from snowflake.snowpark import Session\n"
   ]
  },
  {
   "cell_type": "code",
   "execution_count": 10,
   "metadata": {},
   "outputs": [],
   "source": [
    "import os\n",
    "from dotenv import load_dotenv\n",
    "load_dotenv()\n",
    "\n",
    "def getSnowKeys():\n",
    "    SNOWFLAKEUN = os.getenv('SNOWFLAKEUN')\n",
    "    SNOWFLAKEPW = os.getenv('SNOWFLAKEPW')\n",
    "    return SNOWFLAKEUN, SNOWFLAKEPW\n"
   ]
  },
  {
   "cell_type": "code",
   "execution_count": 20,
   "metadata": {},
   "outputs": [
    {
     "name": "stdout",
     "output_type": "stream",
     "text": [
      "<class 'pandas.core.frame.DataFrame'>\n",
      "RangeIndex: 54 entries, 0 to 53\n",
      "Data columns (total 31 columns):\n",
      " #   Column             Non-Null Count  Dtype  \n",
      "---  ------             --------------  -----  \n",
      " 0   CC_CALL_CENTER_SK  54 non-null     int8   \n",
      " 1   CC_CALL_CENTER_ID  54 non-null     object \n",
      " 2   CC_REC_START_DATE  54 non-null     object \n",
      " 3   CC_REC_END_DATE    27 non-null     object \n",
      " 4   CC_CLOSED_DATE_SK  0 non-null      float64\n",
      " 5   CC_OPEN_DATE_SK    54 non-null     int32  \n",
      " 6   CC_NAME            54 non-null     object \n",
      " 7   CC_CLASS           54 non-null     object \n",
      " 8   CC_EMPLOYEES       54 non-null     int32  \n",
      " 9   CC_SQ_FT           54 non-null     int32  \n",
      " 10  CC_HOURS           54 non-null     object \n",
      " 11  CC_MANAGER         54 non-null     object \n",
      " 12  CC_MKT_ID          54 non-null     int8   \n",
      " 13  CC_MKT_CLASS       54 non-null     object \n",
      " 14  CC_MKT_DESC        54 non-null     object \n",
      " 15  CC_MARKET_MANAGER  54 non-null     object \n",
      " 16  CC_DIVISION        54 non-null     int8   \n",
      " 17  CC_DIVISION_NAME   54 non-null     object \n",
      " 18  CC_COMPANY         54 non-null     int8   \n",
      " 19  CC_COMPANY_NAME    54 non-null     object \n",
      " 20  CC_STREET_NUMBER   54 non-null     object \n",
      " 21  CC_STREET_NAME     54 non-null     object \n",
      " 22  CC_STREET_TYPE     54 non-null     object \n",
      " 23  CC_SUITE_NUMBER    54 non-null     object \n",
      " 24  CC_CITY            54 non-null     object \n",
      " 25  CC_COUNTY          54 non-null     object \n",
      " 26  CC_STATE           54 non-null     object \n",
      " 27  CC_ZIP             54 non-null     object \n",
      " 28  CC_COUNTRY         54 non-null     object \n",
      " 29  CC_GMT_OFFSET      54 non-null     float64\n",
      " 30  CC_TAX_PERCENTAGE  54 non-null     float64\n",
      "dtypes: float64(3), int32(3), int8(4), object(21)\n",
      "memory usage: 11.1+ KB\n"
     ]
    }
   ],
   "source": [
    "from snowflake.snowpark import Session\n",
    "\n",
    "[SNOWFLAKEUN, SNOWFLAKEPW] = getSnowKeys()\n",
    "\n",
    "connection_parameters = {\n",
    "    \"account\":\"rbyutdi-dt77495\",\n",
    "    \"user\":SNOWFLAKEUN,\n",
    "    \"password\":SNOWFLAKEPW,\n",
    "    \"database\":\"SNOWFLAKE_SAMPLE_DATA\"\n",
    "    }\n",
    "\n",
    "new_session = Session.builder.configs(connection_parameters).create()\n",
    "\n",
    "view = new_session.sql('SELECT * FROM TPCDS_SF10TCL.CALL_CENTER')\n",
    "\n",
    "view.toPandas().info()\n",
    "new_session.close()\n"
   ]
  },
  {
   "cell_type": "code",
   "execution_count": null,
   "metadata": {},
   "outputs": [],
   "source": []
  }
 ],
 "metadata": {
  "kernelspec": {
   "display_name": "snowflake",
   "language": "python",
   "name": "python3"
  },
  "language_info": {
   "codemirror_mode": {
    "name": "ipython",
    "version": 3
   },
   "file_extension": ".py",
   "mimetype": "text/x-python",
   "name": "python",
   "nbconvert_exporter": "python",
   "pygments_lexer": "ipython3",
   "version": "3.8.16"
  },
  "orig_nbformat": 4,
  "vscode": {
   "interpreter": {
    "hash": "4ba2277fd018ee40657e90fd390e11ada21ee8184898d3501a23b448466bb571"
   }
  }
 },
 "nbformat": 4,
 "nbformat_minor": 2
}
